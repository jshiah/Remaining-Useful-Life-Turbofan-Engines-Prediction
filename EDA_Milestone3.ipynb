{
 "cells": [
  {
   "cell_type": "code",
   "execution_count": 6,
   "metadata": {},
   "outputs": [],
   "source": [
    "import pandas as pd\n",
    "import matplotlib.pyplot as plt\n",
    "\n",
    "column_names = [\n",
    "    \"unit\", \"time\", \"op_setting_1\", \"op_setting_2\", \"op_setting_3\"\n",
    "] + [f\"sensor_{i}\" for i in range(1, 22)]  # 3 operational settings + 21 sensors\n",
    "\n",
    "df1 = pd.read_csv('/Users/JoyceShiah/Documents/GitHub/dsc288r_capstone/train_FD001.txt', sep=\"\\s+\", header=None, names=column_names, index_col=False)"
   ]
  }
 ],
 "metadata": {
  "kernelspec": {
   "display_name": "Python (base)",
   "language": "python",
   "name": "base"
  },
  "language_info": {
   "codemirror_mode": {
    "name": "ipython",
    "version": 3
   },
   "file_extension": ".py",
   "mimetype": "text/x-python",
   "name": "python",
   "nbconvert_exporter": "python",
   "pygments_lexer": "ipython3",
   "version": "3.11.7"
  }
 },
 "nbformat": 4,
 "nbformat_minor": 2
}
